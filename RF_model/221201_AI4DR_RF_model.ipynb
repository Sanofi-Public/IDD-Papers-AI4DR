{
 "cells": [
  {
   "cell_type": "code",
   "execution_count": 1,
   "id": "ba0ee939-d1bf-4c4e-9092-3bbfc6cfe18d",
   "metadata": {},
   "outputs": [],
   "source": [
    "import pandas as pd\n",
    "import numpy as np"
   ]
  },
  {
   "cell_type": "code",
   "execution_count": 2,
   "id": "311e4427-fabd-4b99-8e99-ca8cc8a455d3",
   "metadata": {},
   "outputs": [],
   "source": [
    "from sklearn.preprocessing import StandardScaler\n",
    "from sklearn.ensemble import RandomForestClassifier\n",
    "from sklearn.metrics import classification_report, confusion_matrix, accuracy_score\n",
    "from sklearn.model_selection import cross_val_score\n",
    "from sklearn.model_selection import GridSearchCV"
   ]
  },
  {
   "cell_type": "code",
   "execution_count": 3,
   "id": "fbcda0b1-02b3-489c-bccc-92d62b860e29",
   "metadata": {},
   "outputs": [],
   "source": [
    "train_df = pd.read_csv('221112_AI4DR_Train_Hill_parameters.csv')\n",
    "test_df = pd.read_csv('221112_AI4DR_Test_Hill_parameters.csv')"
   ]
  },
  {
   "cell_type": "code",
   "execution_count": 4,
   "id": "ec5702d6-6263-4a59-a669-ab637d3cf7b7",
   "metadata": {},
   "outputs": [
    {
     "name": "stdout",
     "output_type": "stream",
     "text": [
      "<class 'pandas.core.frame.DataFrame'>\n",
      "RangeIndex: 65000 entries, 0 to 64999\n",
      "Data columns (total 23 columns):\n",
      " #   Column        Non-Null Count  Dtype  \n",
      "---  ------        --------------  -----  \n",
      " 0   Unnamed: 0    65000 non-null  int64  \n",
      " 1   row ID        65000 non-null  object \n",
      " 2   CurveType     65000 non-null  object \n",
      " 3   Classe        65000 non-null  object \n",
      " 4   Classe_Index  65000 non-null  int64  \n",
      " 5   CATOP         65000 non-null  int64  \n",
      " 6   CANB          65000 non-null  int64  \n",
      " 7   CASIG         65000 non-null  int64  \n",
      " 8   CANT          65000 non-null  int64  \n",
      " 9   CAHS          65000 non-null  int64  \n",
      " 10  CNA           65000 non-null  int64  \n",
      " 11  P             65000 non-null  int64  \n",
      " 12  NT            65000 non-null  int64  \n",
      " 13  LS            65000 non-null  int64  \n",
      " 14  BA            65000 non-null  int64  \n",
      " 15  BTOX          65000 non-null  int64  \n",
      " 16  W             65000 non-null  int64  \n",
      " 17  LU            65000 non-null  int64  \n",
      " 18  r2            64885 non-null  float64\n",
      " 19  top           64885 non-null  float64\n",
      " 20  bottom        64885 non-null  float64\n",
      " 21  ec50          64885 non-null  float64\n",
      " 22  nh            64885 non-null  float64\n",
      "dtypes: float64(5), int64(15), object(3)\n",
      "memory usage: 11.4+ MB\n"
     ]
    }
   ],
   "source": [
    "train_df.info()"
   ]
  },
  {
   "cell_type": "code",
   "execution_count": 5,
   "id": "e55a544a-d0d1-4fd3-a001-06b7a0841575",
   "metadata": {},
   "outputs": [
    {
     "name": "stdout",
     "output_type": "stream",
     "text": [
      "<class 'pandas.core.frame.DataFrame'>\n",
      "RangeIndex: 6500 entries, 0 to 6499\n",
      "Data columns (total 23 columns):\n",
      " #   Column        Non-Null Count  Dtype  \n",
      "---  ------        --------------  -----  \n",
      " 0   Unnamed: 0    6500 non-null   int64  \n",
      " 1   row ID        6500 non-null   object \n",
      " 2   CurveType     6500 non-null   object \n",
      " 3   Classe        6500 non-null   object \n",
      " 4   Classe_Index  6500 non-null   int64  \n",
      " 5   CATOP         6500 non-null   int64  \n",
      " 6   CANB          6500 non-null   int64  \n",
      " 7   CASIG         6500 non-null   int64  \n",
      " 8   CANT          6500 non-null   int64  \n",
      " 9   CAHS          6500 non-null   int64  \n",
      " 10  CNA           6500 non-null   int64  \n",
      " 11  P             6500 non-null   int64  \n",
      " 12  NT            6500 non-null   int64  \n",
      " 13  LS            6500 non-null   int64  \n",
      " 14  BA            6500 non-null   int64  \n",
      " 15  BTOX          6500 non-null   int64  \n",
      " 16  W             6500 non-null   int64  \n",
      " 17  LU            6500 non-null   int64  \n",
      " 18  r2            6490 non-null   float64\n",
      " 19  top           6490 non-null   float64\n",
      " 20  bottom        6490 non-null   float64\n",
      " 21  ec50          6490 non-null   float64\n",
      " 22  nh            6490 non-null   float64\n",
      "dtypes: float64(5), int64(15), object(3)\n",
      "memory usage: 1.1+ MB\n"
     ]
    }
   ],
   "source": [
    "test_df.info()"
   ]
  },
  {
   "cell_type": "code",
   "execution_count": 6,
   "id": "36375b4a-5b7b-4e95-9e22-e2345f9fa781",
   "metadata": {},
   "outputs": [],
   "source": [
    "train_df = train_df.dropna()\n",
    "test_df = test_df.dropna()"
   ]
  },
  {
   "cell_type": "code",
   "execution_count": 7,
   "id": "8bf2f58e-312e-4fc0-989f-7ef06e50e454",
   "metadata": {},
   "outputs": [
    {
     "name": "stdout",
     "output_type": "stream",
     "text": [
      "<class 'pandas.core.frame.DataFrame'>\n",
      "Int64Index: 64885 entries, 0 to 64999\n",
      "Data columns (total 23 columns):\n",
      " #   Column        Non-Null Count  Dtype  \n",
      "---  ------        --------------  -----  \n",
      " 0   Unnamed: 0    64885 non-null  int64  \n",
      " 1   row ID        64885 non-null  object \n",
      " 2   CurveType     64885 non-null  object \n",
      " 3   Classe        64885 non-null  object \n",
      " 4   Classe_Index  64885 non-null  int64  \n",
      " 5   CATOP         64885 non-null  int64  \n",
      " 6   CANB          64885 non-null  int64  \n",
      " 7   CASIG         64885 non-null  int64  \n",
      " 8   CANT          64885 non-null  int64  \n",
      " 9   CAHS          64885 non-null  int64  \n",
      " 10  CNA           64885 non-null  int64  \n",
      " 11  P             64885 non-null  int64  \n",
      " 12  NT            64885 non-null  int64  \n",
      " 13  LS            64885 non-null  int64  \n",
      " 14  BA            64885 non-null  int64  \n",
      " 15  BTOX          64885 non-null  int64  \n",
      " 16  W             64885 non-null  int64  \n",
      " 17  LU            64885 non-null  int64  \n",
      " 18  r2            64885 non-null  float64\n",
      " 19  top           64885 non-null  float64\n",
      " 20  bottom        64885 non-null  float64\n",
      " 21  ec50          64885 non-null  float64\n",
      " 22  nh            64885 non-null  float64\n",
      "dtypes: float64(5), int64(15), object(3)\n",
      "memory usage: 11.9+ MB\n"
     ]
    }
   ],
   "source": [
    "train_df.info()"
   ]
  },
  {
   "cell_type": "code",
   "execution_count": 8,
   "id": "afe8c126-8bfb-4e40-aa7b-64654907f8b2",
   "metadata": {},
   "outputs": [
    {
     "name": "stdout",
     "output_type": "stream",
     "text": [
      "<class 'pandas.core.frame.DataFrame'>\n",
      "Int64Index: 6490 entries, 0 to 6499\n",
      "Data columns (total 23 columns):\n",
      " #   Column        Non-Null Count  Dtype  \n",
      "---  ------        --------------  -----  \n",
      " 0   Unnamed: 0    6490 non-null   int64  \n",
      " 1   row ID        6490 non-null   object \n",
      " 2   CurveType     6490 non-null   object \n",
      " 3   Classe        6490 non-null   object \n",
      " 4   Classe_Index  6490 non-null   int64  \n",
      " 5   CATOP         6490 non-null   int64  \n",
      " 6   CANB          6490 non-null   int64  \n",
      " 7   CASIG         6490 non-null   int64  \n",
      " 8   CANT          6490 non-null   int64  \n",
      " 9   CAHS          6490 non-null   int64  \n",
      " 10  CNA           6490 non-null   int64  \n",
      " 11  P             6490 non-null   int64  \n",
      " 12  NT            6490 non-null   int64  \n",
      " 13  LS            6490 non-null   int64  \n",
      " 14  BA            6490 non-null   int64  \n",
      " 15  BTOX          6490 non-null   int64  \n",
      " 16  W             6490 non-null   int64  \n",
      " 17  LU            6490 non-null   int64  \n",
      " 18  r2            6490 non-null   float64\n",
      " 19  top           6490 non-null   float64\n",
      " 20  bottom        6490 non-null   float64\n",
      " 21  ec50          6490 non-null   float64\n",
      " 22  nh            6490 non-null   float64\n",
      "dtypes: float64(5), int64(15), object(3)\n",
      "memory usage: 1.2+ MB\n"
     ]
    }
   ],
   "source": [
    "test_df.info()"
   ]
  },
  {
   "cell_type": "code",
   "execution_count": 9,
   "id": "81a75faf-1441-492b-bb31-5a77e65ad403",
   "metadata": {},
   "outputs": [
    {
     "data": {
      "text/plain": [
       "Index(['Unnamed: 0', 'row ID', 'CurveType', 'Classe', 'Classe_Index', 'CATOP',\n",
       "       'CANB', 'CASIG', 'CANT', 'CAHS', 'CNA', 'P', 'NT', 'LS', 'BA', 'BTOX',\n",
       "       'W', 'LU', 'r2', 'top', 'bottom', 'ec50', 'nh'],\n",
       "      dtype='object')"
      ]
     },
     "execution_count": 9,
     "metadata": {},
     "output_type": "execute_result"
    }
   ],
   "source": [
    "train_df.columns"
   ]
  },
  {
   "cell_type": "code",
   "execution_count": 10,
   "id": "4591e73d-1670-4399-944c-6f013816fd20",
   "metadata": {},
   "outputs": [],
   "source": [
    "param_grid = { \n",
    "    'n_estimators': [50, 100 ],\n",
    "    'max_depth' : [20, 50, 100 ],\n",
    "    'min_samples_leaf': [10, 20, 50],\n",
    "    'min_samples_split': [10,20,50],\n",
    "    'max_leaf_nodes' : [50, 100 ]\n",
    "}"
   ]
  },
  {
   "cell_type": "code",
   "execution_count": 11,
   "id": "18dd40a1-2ca5-450d-93f2-648987733ee1",
   "metadata": {},
   "outputs": [],
   "source": [
    "X_train = train_df[['r2', 'top', 'bottom', 'ec50', 'nh']].values\n",
    "X_test = test_df[['r2', 'top', 'bottom', 'ec50', 'nh']].values"
   ]
  },
  {
   "cell_type": "code",
   "execution_count": 12,
   "id": "85e0ac45-e706-434e-9284-4735a301bc51",
   "metadata": {},
   "outputs": [],
   "source": [
    "y_train = train_df[['CATOP', 'CANB', 'CASIG', 'CANT', 'CAHS', 'CNA', 'P', 'NT', 'LS', 'BA', 'BTOX', 'W', 'LU']].values\n",
    "y_test = test_df[['CATOP', 'CANB', 'CASIG', 'CANT', 'CAHS', 'CNA', 'P', 'NT', 'LS', 'BA', 'BTOX', 'W', 'LU']].values"
   ]
  },
  {
   "cell_type": "code",
   "execution_count": 13,
   "id": "af0867d8-3782-487f-bb8e-9ce73acec625",
   "metadata": {},
   "outputs": [],
   "source": [
    "sc = StandardScaler()\n",
    "X_train = sc.fit_transform(X_train)\n",
    "X_test = sc.transform(X_test)"
   ]
  },
  {
   "cell_type": "code",
   "execution_count": 14,
   "id": "c5c5a9b5-f4a9-4a79-bf43-d05db5e68ad9",
   "metadata": {},
   "outputs": [],
   "source": [
    "CV_classifier = GridSearchCV(estimator=RandomForestClassifier(n_jobs=8, bootstrap=True, random_state=42), param_grid=param_grid, cv= 5)\n",
    "CV_classifier.fit(X_train, y_train)\n",
    "y_pred = CV_classifier.predict(X_test)"
   ]
  },
  {
   "cell_type": "code",
   "execution_count": 15,
   "id": "240131f3-322b-4e9f-aea9-4d0d7e31a2b5",
   "metadata": {},
   "outputs": [
    {
     "name": "stdout",
     "output_type": "stream",
     "text": [
      "              precision    recall  f1-score   support\n",
      "\n",
      "           0       0.91      0.93      0.92       500\n",
      "           1       0.87      0.84      0.85       500\n",
      "           2       0.88      0.82      0.85       500\n",
      "           3       0.97      0.95      0.96       500\n",
      "           4       0.91      0.80      0.85       500\n",
      "           5       0.95      0.89      0.92       499\n",
      "           6       0.95      0.95      0.95       500\n",
      "           7       0.88      0.86      0.87       500\n",
      "           8       0.94      0.94      0.94       495\n",
      "           9       0.97      0.88      0.92       500\n",
      "          10       0.88      0.66      0.76       500\n",
      "          11       0.96      0.84      0.90       500\n",
      "          12       0.99      0.98      0.98       496\n",
      "\n",
      "   micro avg       0.93      0.87      0.90      6490\n",
      "   macro avg       0.93      0.87      0.90      6490\n",
      "weighted avg       0.93      0.87      0.90      6490\n",
      " samples avg       0.87      0.87      0.87      6490\n",
      "\n",
      "0.871648690292758\n"
     ]
    },
    {
     "name": "stderr",
     "output_type": "stream",
     "text": [
      "/groups/idd/conda_envs/env_AI4DR_modeling/lib/python3.9/site-packages/sklearn/metrics/_classification.py:1327: UndefinedMetricWarning: Precision and F-score are ill-defined and being set to 0.0 in samples with no predicted labels. Use `zero_division` parameter to control this behavior.\n",
      "  _warn_prf(average, modifier, msg_start, len(result))\n"
     ]
    }
   ],
   "source": [
    "print(classification_report(y_test,y_pred))\n",
    "print(accuracy_score(y_test, y_pred))"
   ]
  },
  {
   "cell_type": "code",
   "execution_count": 16,
   "id": "77ff7d25-6529-483d-8a50-49906d363929",
   "metadata": {},
   "outputs": [
    {
     "data": {
      "text/plain": [
       "{'max_depth': 20,\n",
       " 'max_leaf_nodes': 100,\n",
       " 'min_samples_leaf': 20,\n",
       " 'min_samples_split': 10,\n",
       " 'n_estimators': 100}"
      ]
     },
     "execution_count": 16,
     "metadata": {},
     "output_type": "execute_result"
    }
   ],
   "source": [
    "CV_classifier.best_params_"
   ]
  },
  {
   "cell_type": "code",
   "execution_count": 18,
   "id": "cf93eaad-3f9f-4d8b-8599-cb464c18a6e1",
   "metadata": {},
   "outputs": [
    {
     "data": {
      "text/plain": [
       "\u001b[0;31mType:\u001b[0m        ndarray\n",
       "\u001b[0;31mString form:\u001b[0m\n",
       "[[0 0 0 ... 0 0 0]\n",
       " [0 0 0 ... 0 1 0]\n",
       " [0 0 0 ... 0 0 0]\n",
       " ...\n",
       " [0 0 0 ... 0 0 0]\n",
       " [0 1 0 ... 0 0 0]\n",
       " [0 0 0 ... 0 1 0]]\n",
       "\u001b[0;31mLength:\u001b[0m      6490\n",
       "\u001b[0;31mFile:\u001b[0m        /groups/idd/conda_envs/env_AI4DR_modeling/lib/python3.9/site-packages/numpy/__init__.py\n",
       "\u001b[0;31mDocstring:\u001b[0m  \n",
       "ndarray(shape, dtype=float, buffer=None, offset=0,\n",
       "        strides=None, order=None)\n",
       "\n",
       "An array object represents a multidimensional, homogeneous array\n",
       "of fixed-size items.  An associated data-type object describes the\n",
       "format of each element in the array (its byte-order, how many bytes it\n",
       "occupies in memory, whether it is an integer, a floating point number,\n",
       "or something else, etc.)\n",
       "\n",
       "Arrays should be constructed using `array`, `zeros` or `empty` (refer\n",
       "to the See Also section below).  The parameters given here refer to\n",
       "a low-level method (`ndarray(...)`) for instantiating an array.\n",
       "\n",
       "For more information, refer to the `numpy` module and examine the\n",
       "methods and attributes of an array.\n",
       "\n",
       "Parameters\n",
       "----------\n",
       "(for the __new__ method; see Notes below)\n",
       "\n",
       "shape : tuple of ints\n",
       "    Shape of created array.\n",
       "dtype : data-type, optional\n",
       "    Any object that can be interpreted as a numpy data type.\n",
       "buffer : object exposing buffer interface, optional\n",
       "    Used to fill the array with data.\n",
       "offset : int, optional\n",
       "    Offset of array data in buffer.\n",
       "strides : tuple of ints, optional\n",
       "    Strides of data in memory.\n",
       "order : {'C', 'F'}, optional\n",
       "    Row-major (C-style) or column-major (Fortran-style) order.\n",
       "\n",
       "Attributes\n",
       "----------\n",
       "T : ndarray\n",
       "    Transpose of the array.\n",
       "data : buffer\n",
       "    The array's elements, in memory.\n",
       "dtype : dtype object\n",
       "    Describes the format of the elements in the array.\n",
       "flags : dict\n",
       "    Dictionary containing information related to memory use, e.g.,\n",
       "    'C_CONTIGUOUS', 'OWNDATA', 'WRITEABLE', etc.\n",
       "flat : numpy.flatiter object\n",
       "    Flattened version of the array as an iterator.  The iterator\n",
       "    allows assignments, e.g., ``x.flat = 3`` (See `ndarray.flat` for\n",
       "    assignment examples; TODO).\n",
       "imag : ndarray\n",
       "    Imaginary part of the array.\n",
       "real : ndarray\n",
       "    Real part of the array.\n",
       "size : int\n",
       "    Number of elements in the array.\n",
       "itemsize : int\n",
       "    The memory use of each array element in bytes.\n",
       "nbytes : int\n",
       "    The total number of bytes required to store the array data,\n",
       "    i.e., ``itemsize * size``.\n",
       "ndim : int\n",
       "    The array's number of dimensions.\n",
       "shape : tuple of ints\n",
       "    Shape of the array.\n",
       "strides : tuple of ints\n",
       "    The step-size required to move from one element to the next in\n",
       "    memory. For example, a contiguous ``(3, 4)`` array of type\n",
       "    ``int16`` in C-order has strides ``(8, 2)``.  This implies that\n",
       "    to move from element to element in memory requires jumps of 2 bytes.\n",
       "    To move from row-to-row, one needs to jump 8 bytes at a time\n",
       "    (``2 * 4``).\n",
       "ctypes : ctypes object\n",
       "    Class containing properties of the array needed for interaction\n",
       "    with ctypes.\n",
       "base : ndarray\n",
       "    If the array is a view into another array, that array is its `base`\n",
       "    (unless that array is also a view).  The `base` array is where the\n",
       "    array data is actually stored.\n",
       "\n",
       "See Also\n",
       "--------\n",
       "array : Construct an array.\n",
       "zeros : Create an array, each element of which is zero.\n",
       "empty : Create an array, but leave its allocated memory unchanged (i.e.,\n",
       "        it contains \"garbage\").\n",
       "dtype : Create a data-type.\n",
       "numpy.typing.NDArray : An ndarray alias :term:`generic <generic type>`\n",
       "                       w.r.t. its `dtype.type <numpy.dtype.type>`.\n",
       "\n",
       "Notes\n",
       "-----\n",
       "There are two modes of creating an array using ``__new__``:\n",
       "\n",
       "1. If `buffer` is None, then only `shape`, `dtype`, and `order`\n",
       "   are used.\n",
       "2. If `buffer` is an object exposing the buffer interface, then\n",
       "   all keywords are interpreted.\n",
       "\n",
       "No ``__init__`` method is needed because the array is fully initialized\n",
       "after the ``__new__`` method.\n",
       "\n",
       "Examples\n",
       "--------\n",
       "These examples illustrate the low-level `ndarray` constructor.  Refer\n",
       "to the `See Also` section above for easier ways of constructing an\n",
       "ndarray.\n",
       "\n",
       "First mode, `buffer` is None:\n",
       "\n",
       ">>> np.ndarray(shape=(2,2), dtype=float, order='F')\n",
       "array([[0.0e+000, 0.0e+000], # random\n",
       "       [     nan, 2.5e-323]])\n",
       "\n",
       "Second mode:\n",
       "\n",
       ">>> np.ndarray((2,), buffer=np.array([1,2,3]),\n",
       "...            offset=np.int_().itemsize,\n",
       "...            dtype=int) # offset = 1*itemsize, i.e. skip first element\n",
       "array([2, 3])\n"
      ]
     },
     "metadata": {},
     "output_type": "display_data"
    }
   ],
   "source": [
    "?y_pred"
   ]
  },
  {
   "cell_type": "code",
   "execution_count": 13,
   "id": "48398f73-20dd-45b5-be75-42e94bc3516c",
   "metadata": {},
   "outputs": [],
   "source": [
    "classifier = RandomForestClassifier(n_estimators=20, random_state=0)\n",
    "classifier.fit(X_train, y_train)\n",
    "y_pred = classifier.predict(X_test)"
   ]
  },
  {
   "cell_type": "code",
   "execution_count": 15,
   "id": "79802f08-8119-48c3-9f11-cd9baf36a4c9",
   "metadata": {},
   "outputs": [
    {
     "name": "stdout",
     "output_type": "stream",
     "text": [
      "              precision    recall  f1-score   support\n",
      "\n",
      "           0       0.96      0.97      0.96       500\n",
      "           1       0.93      0.89      0.91       500\n",
      "           2       0.88      0.82      0.85       500\n",
      "           3       0.97      0.98      0.98       500\n",
      "           4       0.91      0.86      0.88       500\n",
      "           5       0.96      0.93      0.95       499\n",
      "           6       0.97      0.96      0.97       500\n",
      "           7       0.93      0.92      0.92       500\n",
      "           8       0.95      0.95      0.95       495\n",
      "           9       0.98      0.94      0.96       500\n",
      "          10       0.92      0.85      0.88       500\n",
      "          11       0.96      0.91      0.93       500\n",
      "          12       0.99      0.98      0.99       496\n",
      "\n",
      "   micro avg       0.95      0.92      0.93      6490\n",
      "   macro avg       0.95      0.92      0.93      6490\n",
      "weighted avg       0.95      0.92      0.93      6490\n",
      " samples avg       0.92      0.92      0.92      6490\n",
      "\n",
      "0.9204930662557781\n"
     ]
    },
    {
     "name": "stderr",
     "output_type": "stream",
     "text": [
      "/groups/idd/conda_envs/env_AI4DR_modeling/lib/python3.9/site-packages/sklearn/metrics/_classification.py:1327: UndefinedMetricWarning: Precision and F-score are ill-defined and being set to 0.0 in samples with no predicted labels. Use `zero_division` parameter to control this behavior.\n",
      "  _warn_prf(average, modifier, msg_start, len(result))\n"
     ]
    }
   ],
   "source": [
    "#print(confusion_matrix(y_test,y_pred))\n",
    "print(classification_report(y_test,y_pred))\n",
    "print(accuracy_score(y_test, y_pred))"
   ]
  },
  {
   "cell_type": "code",
   "execution_count": 18,
   "id": "f12a3e42-8f86-4c27-9b06-1bab5e0eff01",
   "metadata": {},
   "outputs": [
    {
     "data": {
      "text/html": [
       "<div>\n",
       "<style scoped>\n",
       "    .dataframe tbody tr th:only-of-type {\n",
       "        vertical-align: middle;\n",
       "    }\n",
       "\n",
       "    .dataframe tbody tr th {\n",
       "        vertical-align: top;\n",
       "    }\n",
       "\n",
       "    .dataframe thead th {\n",
       "        text-align: right;\n",
       "    }\n",
       "</style>\n",
       "<table border=\"1\" class=\"dataframe\">\n",
       "  <thead>\n",
       "    <tr style=\"text-align: right;\">\n",
       "      <th></th>\n",
       "      <th>Classe</th>\n",
       "      <th>Classe_Index</th>\n",
       "    </tr>\n",
       "    <tr>\n",
       "      <th>CurveType</th>\n",
       "      <th></th>\n",
       "      <th></th>\n",
       "    </tr>\n",
       "  </thead>\n",
       "  <tbody>\n",
       "    <tr>\n",
       "      <th>CATOP</th>\n",
       "      <td>CATOP</td>\n",
       "      <td>0</td>\n",
       "    </tr>\n",
       "    <tr>\n",
       "      <th>CANB</th>\n",
       "      <td>CANB</td>\n",
       "      <td>1</td>\n",
       "    </tr>\n",
       "    <tr>\n",
       "      <th>CASIG</th>\n",
       "      <td>CASIG</td>\n",
       "      <td>2</td>\n",
       "    </tr>\n",
       "    <tr>\n",
       "      <th>CANT</th>\n",
       "      <td>CANT</td>\n",
       "      <td>3</td>\n",
       "    </tr>\n",
       "    <tr>\n",
       "      <th>CAHS</th>\n",
       "      <td>CAHS</td>\n",
       "      <td>4</td>\n",
       "    </tr>\n",
       "    <tr>\n",
       "      <th>CNA</th>\n",
       "      <td>CNA</td>\n",
       "      <td>5</td>\n",
       "    </tr>\n",
       "    <tr>\n",
       "      <th>P</th>\n",
       "      <td>P</td>\n",
       "      <td>6</td>\n",
       "    </tr>\n",
       "    <tr>\n",
       "      <th>NT</th>\n",
       "      <td>NT</td>\n",
       "      <td>7</td>\n",
       "    </tr>\n",
       "    <tr>\n",
       "      <th>LS</th>\n",
       "      <td>LS</td>\n",
       "      <td>8</td>\n",
       "    </tr>\n",
       "    <tr>\n",
       "      <th>BA</th>\n",
       "      <td>BA</td>\n",
       "      <td>9</td>\n",
       "    </tr>\n",
       "    <tr>\n",
       "      <th>BTOX</th>\n",
       "      <td>BTOX</td>\n",
       "      <td>10</td>\n",
       "    </tr>\n",
       "    <tr>\n",
       "      <th>W</th>\n",
       "      <td>W</td>\n",
       "      <td>11</td>\n",
       "    </tr>\n",
       "    <tr>\n",
       "      <th>LU</th>\n",
       "      <td>LU</td>\n",
       "      <td>12</td>\n",
       "    </tr>\n",
       "  </tbody>\n",
       "</table>\n",
       "</div>"
      ],
      "text/plain": [
       "          Classe  Classe_Index\n",
       "CurveType                     \n",
       "CATOP      CATOP             0\n",
       "CANB        CANB             1\n",
       "CASIG      CASIG             2\n",
       "CANT        CANT             3\n",
       "CAHS        CAHS             4\n",
       "CNA          CNA             5\n",
       "P              P             6\n",
       "NT            NT             7\n",
       "LS            LS             8\n",
       "BA            BA             9\n",
       "BTOX        BTOX            10\n",
       "W              W            11\n",
       "LU            LU            12"
      ]
     },
     "execution_count": 18,
     "metadata": {},
     "output_type": "execute_result"
    }
   ],
   "source": [
    "train_df[['CurveType', 'Classe', 'Classe_Index']].groupby('CurveType').first().sort_values('Classe_Index')"
   ]
  },
  {
   "cell_type": "code",
   "execution_count": null,
   "id": "d2f287cd-b85e-429d-b5f3-bc009b6f29e0",
   "metadata": {},
   "outputs": [],
   "source": []
  }
 ],
 "metadata": {
  "kernelspec": {
   "display_name": "env_AI4DR_modeling",
   "language": "python",
   "name": "env_ai4dr_modeling"
  },
  "language_info": {
   "codemirror_mode": {
    "name": "ipython",
    "version": 3
   },
   "file_extension": ".py",
   "mimetype": "text/x-python",
   "name": "python",
   "nbconvert_exporter": "python",
   "pygments_lexer": "ipython3",
   "version": "3.9.13"
  }
 },
 "nbformat": 4,
 "nbformat_minor": 5
}
